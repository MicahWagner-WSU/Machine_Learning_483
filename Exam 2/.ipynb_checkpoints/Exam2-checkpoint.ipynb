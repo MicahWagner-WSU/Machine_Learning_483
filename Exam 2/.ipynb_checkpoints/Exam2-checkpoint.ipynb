{
 "cells": [
  {
   "cell_type": "markdown",
   "id": "0f6207f3-7863-49c2-b80f-f6344ff0698a",
   "metadata": {},
   "source": [
    "Name: Micah Wagner\n",
    "\n",
    "Dataset link: https://www.kaggle.com/datasets/sidhus/crab-age-prediction "
   ]
  },
  {
   "cell_type": "code",
   "execution_count": 9,
   "id": "ad5c6fde-80c1-463a-9705-77cee18c1828",
   "metadata": {},
   "outputs": [],
   "source": [
    "import numpy as np\n",
    "import pandas as pd\n",
    "from sklearn.pipeline import Pipeline\n",
    "from sklearn.base import TransformerMixin, BaseEstimator\n",
    "from sklearn.ensemble import GradientBoostingClassifier\n",
    "from sklearn.model_selection import GridSearchCV\n",
    "from sklearn.preprocessing import MinMaxScaler\n",
    "\n",
    "from sklearn.model_selection import train_test_split\n",
    "from sklearn.metrics import f1_score"
   ]
  },
  {
   "cell_type": "code",
   "execution_count": 10,
   "id": "3a5017d0-58cf-4076-a1c8-8e06df27f7ff",
   "metadata": {},
   "outputs": [
    {
     "name": "stdout",
     "output_type": "stream",
     "text": [
      "      Length  Diameter  Height     Weight  Shucked Weight  Viscera Weight  \\\n",
      "0     1.4375    1.1750  0.4125  24.635715       12.332033        5.584852   \n",
      "1     0.8875    0.6500  0.2125   5.400580        2.296310        1.374951   \n",
      "2     1.0375    0.7750  0.2500   7.952035        3.231843        1.601747   \n",
      "3     1.1750    0.8875  0.2500  13.480187        4.748541        2.282135   \n",
      "4     0.8875    0.6625  0.2125   6.903103        3.458639        1.488349   \n",
      "...      ...       ...     ...        ...             ...             ...   \n",
      "3888  1.4625    1.1375  0.3250  24.819987       11.651644        5.854172   \n",
      "3889  1.5500    1.2125  0.4375  34.458817       15.450477        7.172423   \n",
      "3890  0.6250    0.4625  0.1625   2.012815        0.765436        0.524466   \n",
      "3891  1.0625    0.7750  0.2625  10.347568        4.507570        2.338834   \n",
      "3892  0.7875    0.6125  0.2125   4.068153        1.502523        1.346601   \n",
      "\n",
      "      Shell Weight  Sex_F  Sex_I  Sex_M  \n",
      "0         6.747181    1.0    0.0    0.0  \n",
      "1         1.559222    0.0    0.0    1.0  \n",
      "2         2.764076    0.0    1.0    0.0  \n",
      "3         5.244657    1.0    0.0    0.0  \n",
      "4         1.700970    0.0    1.0    0.0  \n",
      "...            ...    ...    ...    ...  \n",
      "3888      6.378637    1.0    0.0    0.0  \n",
      "3889      9.780577    1.0    0.0    0.0  \n",
      "3890      0.637864    0.0    1.0    0.0  \n",
      "3891      2.976698    0.0    1.0    0.0  \n",
      "3892      1.417475    0.0    1.0    0.0  \n",
      "\n",
      "[3893 rows x 10 columns] 0       False\n",
      "1       False\n",
      "2       False\n",
      "3       False\n",
      "4       False\n",
      "        ...  \n",
      "3888    False\n",
      "3889    False\n",
      "3890    False\n",
      "3891    False\n",
      "3892    False\n",
      "Name: IsMature, Length: 3893, dtype: bool\n"
     ]
    }
   ],
   "source": [
    "raw_data = pd.read_csv(\"CrabAgePrediction.csv\")\n",
    "#select all columns, including categorical features\n",
    "selected_data = pd.get_dummies(raw_data, dtype=float)\n",
    "selected_data.fillna(value=0, inplace = True)\n",
    "selected_data[\"IsMature\"] = selected_data[\"Age\"] > 11\n",
    "selected_data = selected_data.drop(columns = [\"Age\"])\n",
    "xs = selected_data.drop(columns = [\"IsMature\"])\n",
    "ys = selected_data[\"IsMature\"]\n",
    "\n",
    "train_x, test_x, train_y, test_y = train_test_split( xs, ys, train_size = 0.7)\n",
    "\n",
    "print(xs, ys)"
   ]
  },
  {
   "cell_type": "code",
   "execution_count": 6,
   "id": "249781ad-00ac-4ee9-80fc-01822cb1b1ab",
   "metadata": {},
   "outputs": [
    {
     "data": {
      "text/html": [
       "<style>#sk-container-id-2 {color: black;background-color: white;}#sk-container-id-2 pre{padding: 0;}#sk-container-id-2 div.sk-toggleable {background-color: white;}#sk-container-id-2 label.sk-toggleable__label {cursor: pointer;display: block;width: 100%;margin-bottom: 0;padding: 0.3em;box-sizing: border-box;text-align: center;}#sk-container-id-2 label.sk-toggleable__label-arrow:before {content: \"▸\";float: left;margin-right: 0.25em;color: #696969;}#sk-container-id-2 label.sk-toggleable__label-arrow:hover:before {color: black;}#sk-container-id-2 div.sk-estimator:hover label.sk-toggleable__label-arrow:before {color: black;}#sk-container-id-2 div.sk-toggleable__content {max-height: 0;max-width: 0;overflow: hidden;text-align: left;background-color: #f0f8ff;}#sk-container-id-2 div.sk-toggleable__content pre {margin: 0.2em;color: black;border-radius: 0.25em;background-color: #f0f8ff;}#sk-container-id-2 input.sk-toggleable__control:checked~div.sk-toggleable__content {max-height: 200px;max-width: 100%;overflow: auto;}#sk-container-id-2 input.sk-toggleable__control:checked~label.sk-toggleable__label-arrow:before {content: \"▾\";}#sk-container-id-2 div.sk-estimator input.sk-toggleable__control:checked~label.sk-toggleable__label {background-color: #d4ebff;}#sk-container-id-2 div.sk-label input.sk-toggleable__control:checked~label.sk-toggleable__label {background-color: #d4ebff;}#sk-container-id-2 input.sk-hidden--visually {border: 0;clip: rect(1px 1px 1px 1px);clip: rect(1px, 1px, 1px, 1px);height: 1px;margin: -1px;overflow: hidden;padding: 0;position: absolute;width: 1px;}#sk-container-id-2 div.sk-estimator {font-family: monospace;background-color: #f0f8ff;border: 1px dotted black;border-radius: 0.25em;box-sizing: border-box;margin-bottom: 0.5em;}#sk-container-id-2 div.sk-estimator:hover {background-color: #d4ebff;}#sk-container-id-2 div.sk-parallel-item::after {content: \"\";width: 100%;border-bottom: 1px solid gray;flex-grow: 1;}#sk-container-id-2 div.sk-label:hover label.sk-toggleable__label {background-color: #d4ebff;}#sk-container-id-2 div.sk-serial::before {content: \"\";position: absolute;border-left: 1px solid gray;box-sizing: border-box;top: 0;bottom: 0;left: 50%;z-index: 0;}#sk-container-id-2 div.sk-serial {display: flex;flex-direction: column;align-items: center;background-color: white;padding-right: 0.2em;padding-left: 0.2em;position: relative;}#sk-container-id-2 div.sk-item {position: relative;z-index: 1;}#sk-container-id-2 div.sk-parallel {display: flex;align-items: stretch;justify-content: center;background-color: white;position: relative;}#sk-container-id-2 div.sk-item::before, #sk-container-id-2 div.sk-parallel-item::before {content: \"\";position: absolute;border-left: 1px solid gray;box-sizing: border-box;top: 0;bottom: 0;left: 50%;z-index: -1;}#sk-container-id-2 div.sk-parallel-item {display: flex;flex-direction: column;z-index: 1;position: relative;background-color: white;}#sk-container-id-2 div.sk-parallel-item:first-child::after {align-self: flex-end;width: 50%;}#sk-container-id-2 div.sk-parallel-item:last-child::after {align-self: flex-start;width: 50%;}#sk-container-id-2 div.sk-parallel-item:only-child::after {width: 0;}#sk-container-id-2 div.sk-dashed-wrapped {border: 1px dashed gray;margin: 0 0.4em 0.5em 0.4em;box-sizing: border-box;padding-bottom: 0.4em;background-color: white;}#sk-container-id-2 div.sk-label label {font-family: monospace;font-weight: bold;display: inline-block;line-height: 1.2em;}#sk-container-id-2 div.sk-label-container {text-align: center;}#sk-container-id-2 div.sk-container {/* jupyter's `normalize.less` sets `[hidden] { display: none; }` but bootstrap.min.css set `[hidden] { display: none !important; }` so we also need the `!important` here to be able to override the default hidden behavior on the sphinx rendered scikit-learn.org. See: https://github.com/scikit-learn/scikit-learn/issues/21755 */display: inline-block !important;position: relative;}#sk-container-id-2 div.sk-text-repr-fallback {display: none;}</style><div id=\"sk-container-id-2\" class=\"sk-top-container\"><div class=\"sk-text-repr-fallback\"><pre>GridSearchCV(estimator=Pipeline(steps=[(&#x27;scale&#x27;, MinMaxScaler()),\n",
       "                                       (&#x27;classify&#x27;, None)]),\n",
       "             n_jobs=-1,\n",
       "             param_grid={&#x27;classify&#x27;: [GradientBoostingClassifier(learning_rate=0.05,\n",
       "                                                                 max_depth=9,\n",
       "                                                                 max_features=&#x27;log2&#x27;)],\n",
       "                         &#x27;classify__learning_rate&#x27;: [0.025, 0.05, 0.1, 0.4, 0.8,\n",
       "                                                     1],\n",
       "                         &#x27;classify__max_depth&#x27;: [3, 4, 5, 6, 7, 8, 9, 10],\n",
       "                         &#x27;classify__max_features&#x27;: [&#x27;sqrt&#x27;, &#x27;log2&#x27;]},\n",
       "             scoring=&#x27;f1&#x27;)</pre><b>In a Jupyter environment, please rerun this cell to show the HTML representation or trust the notebook. <br />On GitHub, the HTML representation is unable to render, please try loading this page with nbviewer.org.</b></div><div class=\"sk-container\" hidden><div class=\"sk-item sk-dashed-wrapped\"><div class=\"sk-label-container\"><div class=\"sk-label sk-toggleable\"><input class=\"sk-toggleable__control sk-hidden--visually\" id=\"sk-estimator-id-5\" type=\"checkbox\" ><label for=\"sk-estimator-id-5\" class=\"sk-toggleable__label sk-toggleable__label-arrow\">GridSearchCV</label><div class=\"sk-toggleable__content\"><pre>GridSearchCV(estimator=Pipeline(steps=[(&#x27;scale&#x27;, MinMaxScaler()),\n",
       "                                       (&#x27;classify&#x27;, None)]),\n",
       "             n_jobs=-1,\n",
       "             param_grid={&#x27;classify&#x27;: [GradientBoostingClassifier(learning_rate=0.05,\n",
       "                                                                 max_depth=9,\n",
       "                                                                 max_features=&#x27;log2&#x27;)],\n",
       "                         &#x27;classify__learning_rate&#x27;: [0.025, 0.05, 0.1, 0.4, 0.8,\n",
       "                                                     1],\n",
       "                         &#x27;classify__max_depth&#x27;: [3, 4, 5, 6, 7, 8, 9, 10],\n",
       "                         &#x27;classify__max_features&#x27;: [&#x27;sqrt&#x27;, &#x27;log2&#x27;]},\n",
       "             scoring=&#x27;f1&#x27;)</pre></div></div></div><div class=\"sk-parallel\"><div class=\"sk-parallel-item\"><div class=\"sk-item\"><div class=\"sk-label-container\"><div class=\"sk-label sk-toggleable\"><input class=\"sk-toggleable__control sk-hidden--visually\" id=\"sk-estimator-id-6\" type=\"checkbox\" ><label for=\"sk-estimator-id-6\" class=\"sk-toggleable__label sk-toggleable__label-arrow\">estimator: Pipeline</label><div class=\"sk-toggleable__content\"><pre>Pipeline(steps=[(&#x27;scale&#x27;, MinMaxScaler()), (&#x27;classify&#x27;, None)])</pre></div></div></div><div class=\"sk-serial\"><div class=\"sk-item\"><div class=\"sk-serial\"><div class=\"sk-item\"><div class=\"sk-estimator sk-toggleable\"><input class=\"sk-toggleable__control sk-hidden--visually\" id=\"sk-estimator-id-7\" type=\"checkbox\" ><label for=\"sk-estimator-id-7\" class=\"sk-toggleable__label sk-toggleable__label-arrow\">MinMaxScaler</label><div class=\"sk-toggleable__content\"><pre>MinMaxScaler()</pre></div></div></div><div class=\"sk-item\"><div class=\"sk-estimator sk-toggleable\"><input class=\"sk-toggleable__control sk-hidden--visually\" id=\"sk-estimator-id-8\" type=\"checkbox\" ><label for=\"sk-estimator-id-8\" class=\"sk-toggleable__label sk-toggleable__label-arrow\">None</label><div class=\"sk-toggleable__content\"><pre>None</pre></div></div></div></div></div></div></div></div></div></div></div></div>"
      ],
      "text/plain": [
       "GridSearchCV(estimator=Pipeline(steps=[('scale', MinMaxScaler()),\n",
       "                                       ('classify', None)]),\n",
       "             n_jobs=-1,\n",
       "             param_grid={'classify': [GradientBoostingClassifier(learning_rate=0.05,\n",
       "                                                                 max_depth=9,\n",
       "                                                                 max_features='log2')],\n",
       "                         'classify__learning_rate': [0.025, 0.05, 0.1, 0.4, 0.8,\n",
       "                                                     1],\n",
       "                         'classify__max_depth': [3, 4, 5, 6, 7, 8, 9, 10],\n",
       "                         'classify__max_features': ['sqrt', 'log2']},\n",
       "             scoring='f1')"
      ]
     },
     "execution_count": 6,
     "metadata": {},
     "output_type": "execute_result"
    }
   ],
   "source": [
    "grid_gradient = {\n",
    "    \"classify\": [\n",
    "        GradientBoostingClassifier()\n",
    "    ],\n",
    "    \"classify__max_depth\": [3,4,5,6,7,8,9,10],\n",
    "    \"classify__max_features\": [\"sqrt\", \"log2\"],\n",
    "    \"classify__learning_rate\": [0.025, 0.05, 0.1, 0.4, 0.8, 1],\n",
    "    \n",
    "}\n",
    "\n",
    "steps = [\n",
    "    (\"scale\", MinMaxScaler()),\n",
    "    (\"classify\", GradientBoostingClassifier(learning_rate=0.05, max_depth=9, max_features='log2')\n",
    "]\n",
    "\n",
    "pipe = Pipeline(steps)\n",
    "\n",
    "pipe.fit(train_x, train_y)\n",
    "\n",
    "#search_gradient= GridSearchCV(pipe, grid_gradient, scoring='f1', n_jobs=-1)\t\n",
    "#search_gradient.fit(xs, ys)\n"
   ]
  },
  {
   "cell_type": "code",
   "execution_count": 7,
   "id": "fc477a76-b847-4626-8556-2409b541437a",
   "metadata": {},
   "outputs": [
    {
     "name": "stdout",
     "output_type": "stream",
     "text": [
      "0.5685248839967084\n",
      "{'classify': GradientBoostingClassifier(learning_rate=0.05, max_depth=9, max_features='log2'), 'classify__learning_rate': 0.05, 'classify__max_depth': 9, 'classify__max_features': 'log2'}\n"
     ]
    }
   ],
   "source": [
    "print(search_gradient.best_score_)\n",
    "print(search_gradient.best_params_)"
   ]
  },
  {
   "cell_type": "markdown",
   "id": "6f3f8d83-dc77-4125-b19f-22ffb3a3497c",
   "metadata": {},
   "source": [
    "1. I would expect the chosen metric to decrease, "
   ]
  }
 ],
 "metadata": {
  "kernelspec": {
   "display_name": "Python [conda env:machine_learning]",
   "language": "python",
   "name": "conda-env-machine_learning-py"
  },
  "language_info": {
   "codemirror_mode": {
    "name": "ipython",
    "version": 3
   },
   "file_extension": ".py",
   "mimetype": "text/x-python",
   "name": "python",
   "nbconvert_exporter": "python",
   "pygments_lexer": "ipython3",
   "version": "3.11.5"
  }
 },
 "nbformat": 4,
 "nbformat_minor": 5
}

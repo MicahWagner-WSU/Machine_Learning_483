{
 "cells": [
  {
   "cell_type": "markdown",
   "id": "ad6e643b-9195-46fb-883c-4e5bd99e714e",
   "metadata": {},
   "source": [
    "Name: Micah Wagner, Dataset: https://www.kaggle.com/datasets/pulkit21aug/pyramid-scheme-profit-or-loss "
   ]
  },
  {
   "cell_type": "code",
   "execution_count": 1,
   "id": "4a4d93ab-347d-4c53-bd31-b19cbbe83e79",
   "metadata": {},
   "outputs": [],
   "source": [
    "import numpy as np\n",
    "import pandas as pd\n",
    "from sklearn.pipeline import Pipeline\n",
    "from sklearn.base import TransformerMixin, BaseEstimator\n",
    "from sklearn.model_selection import train_test_split\n",
    "from sklearn.linear_model import LinearRegression\n",
    "from sklearn.compose import TransformedTargetRegressor\n",
    "from sklearn.preprocessing import MinMaxScaler\n",
    "from sklearn.metrics import r2_score"
   ]
  },
  {
   "cell_type": "code",
   "execution_count": 2,
   "id": "ce6d728c-6675-4543-87ef-328dac4595be",
   "metadata": {},
   "outputs": [
    {
     "name": "stdout",
     "output_type": "stream",
     "text": [
      "     Unnamed: 0  profit_markup  depth_of_tree\n",
      "230         231              2             30\n",
      "289         290              5              2\n",
      "72           73              3             26\n",
      "49           50              2             18\n",
      "300         301              4              7\n",
      "..          ...            ...            ...\n",
      "209         210              5             17\n",
      "471         472              4             19\n",
      "33           34              2             10\n",
      "111         112              2              9\n",
      "216         217              3              6\n",
      "\n",
      "[350 rows x 3 columns] 230   -25500\n",
      "289    13000\n",
      "72    -18000\n",
      "49    -13500\n",
      "300     4500\n",
      "       ...  \n",
      "209    -2000\n",
      "471    -7500\n",
      "33     -5500\n",
      "111    -4500\n",
      "216     2000\n",
      "Name: profit, Length: 350, dtype: int64      Unnamed: 0  profit_markup  depth_of_tree\n",
      "36           37              5             21\n",
      "251         252              5             18\n",
      "361         362              2             19\n",
      "107         108              4              7\n",
      "243         244              3              4\n",
      "..          ...            ...            ...\n",
      "257         258              2              6\n",
      "190         191              5             27\n",
      "10           11              2              6\n",
      "112         113              3             16\n",
      "452         453              5              7\n",
      "\n",
      "[150 rows x 3 columns] 36     -6000\n",
      "251    -3000\n",
      "361   -14500\n",
      "107     4500\n",
      "243     4000\n",
      "       ...  \n",
      "257    -1500\n",
      "190   -12000\n",
      "10     -1500\n",
      "112    -8000\n",
      "452     8000\n",
      "Name: profit, Length: 150, dtype: int64\n"
     ]
    }
   ],
   "source": [
    "data = pd.read_csv(\"pyramid_scheme.csv\")\n",
    "my_data = data.drop(columns = ['cost_price', 'sales_commission'])\n",
    "my_data.fillna(value=0, inplace = True)\n",
    "\n",
    "xs = my_data.drop(columns = [\"profit\"])\n",
    "ys = my_data[\"profit\"]\n",
    "\n",
    "train_x, test_x, train_y, test_y = train_test_split( xs, ys, train_size = 0.7)\n",
    "print(train_x, train_y, test_x, test_y)"
   ]
  },
  {
   "cell_type": "code",
   "execution_count": 3,
   "id": "6fd4384c-184b-4f0e-85cb-67f98095a6e4",
   "metadata": {},
   "outputs": [
    {
     "data": {
      "text/html": [
       "<style>#sk-container-id-1 {color: black;background-color: white;}#sk-container-id-1 pre{padding: 0;}#sk-container-id-1 div.sk-toggleable {background-color: white;}#sk-container-id-1 label.sk-toggleable__label {cursor: pointer;display: block;width: 100%;margin-bottom: 0;padding: 0.3em;box-sizing: border-box;text-align: center;}#sk-container-id-1 label.sk-toggleable__label-arrow:before {content: \"▸\";float: left;margin-right: 0.25em;color: #696969;}#sk-container-id-1 label.sk-toggleable__label-arrow:hover:before {color: black;}#sk-container-id-1 div.sk-estimator:hover label.sk-toggleable__label-arrow:before {color: black;}#sk-container-id-1 div.sk-toggleable__content {max-height: 0;max-width: 0;overflow: hidden;text-align: left;background-color: #f0f8ff;}#sk-container-id-1 div.sk-toggleable__content pre {margin: 0.2em;color: black;border-radius: 0.25em;background-color: #f0f8ff;}#sk-container-id-1 input.sk-toggleable__control:checked~div.sk-toggleable__content {max-height: 200px;max-width: 100%;overflow: auto;}#sk-container-id-1 input.sk-toggleable__control:checked~label.sk-toggleable__label-arrow:before {content: \"▾\";}#sk-container-id-1 div.sk-estimator input.sk-toggleable__control:checked~label.sk-toggleable__label {background-color: #d4ebff;}#sk-container-id-1 div.sk-label input.sk-toggleable__control:checked~label.sk-toggleable__label {background-color: #d4ebff;}#sk-container-id-1 input.sk-hidden--visually {border: 0;clip: rect(1px 1px 1px 1px);clip: rect(1px, 1px, 1px, 1px);height: 1px;margin: -1px;overflow: hidden;padding: 0;position: absolute;width: 1px;}#sk-container-id-1 div.sk-estimator {font-family: monospace;background-color: #f0f8ff;border: 1px dotted black;border-radius: 0.25em;box-sizing: border-box;margin-bottom: 0.5em;}#sk-container-id-1 div.sk-estimator:hover {background-color: #d4ebff;}#sk-container-id-1 div.sk-parallel-item::after {content: \"\";width: 100%;border-bottom: 1px solid gray;flex-grow: 1;}#sk-container-id-1 div.sk-label:hover label.sk-toggleable__label {background-color: #d4ebff;}#sk-container-id-1 div.sk-serial::before {content: \"\";position: absolute;border-left: 1px solid gray;box-sizing: border-box;top: 0;bottom: 0;left: 50%;z-index: 0;}#sk-container-id-1 div.sk-serial {display: flex;flex-direction: column;align-items: center;background-color: white;padding-right: 0.2em;padding-left: 0.2em;position: relative;}#sk-container-id-1 div.sk-item {position: relative;z-index: 1;}#sk-container-id-1 div.sk-parallel {display: flex;align-items: stretch;justify-content: center;background-color: white;position: relative;}#sk-container-id-1 div.sk-item::before, #sk-container-id-1 div.sk-parallel-item::before {content: \"\";position: absolute;border-left: 1px solid gray;box-sizing: border-box;top: 0;bottom: 0;left: 50%;z-index: -1;}#sk-container-id-1 div.sk-parallel-item {display: flex;flex-direction: column;z-index: 1;position: relative;background-color: white;}#sk-container-id-1 div.sk-parallel-item:first-child::after {align-self: flex-end;width: 50%;}#sk-container-id-1 div.sk-parallel-item:last-child::after {align-self: flex-start;width: 50%;}#sk-container-id-1 div.sk-parallel-item:only-child::after {width: 0;}#sk-container-id-1 div.sk-dashed-wrapped {border: 1px dashed gray;margin: 0 0.4em 0.5em 0.4em;box-sizing: border-box;padding-bottom: 0.4em;background-color: white;}#sk-container-id-1 div.sk-label label {font-family: monospace;font-weight: bold;display: inline-block;line-height: 1.2em;}#sk-container-id-1 div.sk-label-container {text-align: center;}#sk-container-id-1 div.sk-container {/* jupyter's `normalize.less` sets `[hidden] { display: none; }` but bootstrap.min.css set `[hidden] { display: none !important; }` so we also need the `!important` here to be able to override the default hidden behavior on the sphinx rendered scikit-learn.org. See: https://github.com/scikit-learn/scikit-learn/issues/21755 */display: inline-block !important;position: relative;}#sk-container-id-1 div.sk-text-repr-fallback {display: none;}</style><div id=\"sk-container-id-1\" class=\"sk-top-container\"><div class=\"sk-text-repr-fallback\"><pre>Pipeline(steps=[(&#x27;scale&#x27;, MinMaxScaler()),\n",
       "                (&#x27;predict&#x27;, LinearRegression(n_jobs=-1))])</pre><b>In a Jupyter environment, please rerun this cell to show the HTML representation or trust the notebook. <br />On GitHub, the HTML representation is unable to render, please try loading this page with nbviewer.org.</b></div><div class=\"sk-container\" hidden><div class=\"sk-item sk-dashed-wrapped\"><div class=\"sk-label-container\"><div class=\"sk-label sk-toggleable\"><input class=\"sk-toggleable__control sk-hidden--visually\" id=\"sk-estimator-id-1\" type=\"checkbox\" ><label for=\"sk-estimator-id-1\" class=\"sk-toggleable__label sk-toggleable__label-arrow\">Pipeline</label><div class=\"sk-toggleable__content\"><pre>Pipeline(steps=[(&#x27;scale&#x27;, MinMaxScaler()),\n",
       "                (&#x27;predict&#x27;, LinearRegression(n_jobs=-1))])</pre></div></div></div><div class=\"sk-serial\"><div class=\"sk-item\"><div class=\"sk-estimator sk-toggleable\"><input class=\"sk-toggleable__control sk-hidden--visually\" id=\"sk-estimator-id-2\" type=\"checkbox\" ><label for=\"sk-estimator-id-2\" class=\"sk-toggleable__label sk-toggleable__label-arrow\">MinMaxScaler</label><div class=\"sk-toggleable__content\"><pre>MinMaxScaler()</pre></div></div></div><div class=\"sk-item\"><div class=\"sk-estimator sk-toggleable\"><input class=\"sk-toggleable__control sk-hidden--visually\" id=\"sk-estimator-id-3\" type=\"checkbox\" ><label for=\"sk-estimator-id-3\" class=\"sk-toggleable__label sk-toggleable__label-arrow\">LinearRegression</label><div class=\"sk-toggleable__content\"><pre>LinearRegression(n_jobs=-1)</pre></div></div></div></div></div></div></div>"
      ],
      "text/plain": [
       "Pipeline(steps=[('scale', MinMaxScaler()),\n",
       "                ('predict', LinearRegression(n_jobs=-1))])"
      ]
     },
     "execution_count": 3,
     "metadata": {},
     "output_type": "execute_result"
    }
   ],
   "source": [
    "\n",
    "\n",
    "steps = [\n",
    "    ('scale', MinMaxScaler()),  \n",
    "    ('predict', LinearRegression(n_jobs = -1)),  \n",
    "]\n",
    "\n",
    "pipe = Pipeline(steps)\n",
    "pipe.fit(train_x, train_y)"
   ]
  },
  {
   "cell_type": "code",
   "execution_count": 4,
   "id": "71e10013-d9d8-4cac-bcdb-7f682fef6303",
   "metadata": {},
   "outputs": [
    {
     "data": {
      "text/plain": [
       "1.0"
      ]
     },
     "execution_count": 4,
     "metadata": {},
     "output_type": "execute_result"
    }
   ],
   "source": [
    "predicted_ys = pipe.predict(test_x)\n",
    "r2_score(test_y, predicted_ys)"
   ]
  },
  {
   "cell_type": "markdown",
   "id": "b0972848-8332-4706-9539-47a04336c077",
   "metadata": {},
   "source": [
    "1. The reason I dropped the columns cost_price and sales_commission was because those two columns were all the same value, so there was no reason to train with that data. The reason I chose the columns profit_markup and depth_of_tree was because those were the only columns of useful information to predict the profit of the pyramid scheme. For instance, depth tree refers to how many levels of recruitment there are in the pyramid scheme, and this is vital to knowing the profit of the scheme since the returns are pormised to the investors from the captial of new investors. Additionally, profit_markup refers to the total profit from selling an item, including its cost of manufacturing. I thought this information was important to predict the profitability of a pyramid scheme since they all relate to the amount of capital in the scheme.\n",
    "2. My model performed extremely well according to my metric. In fact, it preformed perfectly, which makes me think that my data is not a good dataset. Upon examining the dataset, by graphing the profit_markup on the x-axis, and the depth_of_tree on the y-axis, and the profit on the z-axis in excel, this resulted in what looked like a perfect plane. So what my model figured out was the plane equation to describe the data perfectly. I then took three points and calculated the plane equation using various linear algebra concepts, and arived at the following equation. profit = 3500\\*profit_markup - 1000*depth_of_tree - 2500. Plugging in values from the dataset demonstrates the validity of the equation.\n",
    "3. Since my pipeline is perfoming a regression task, It would make sense to use R^2 because this metric is used to evaluate the performance of regression models by measuring how well they explain the variation in the target variable (1 meaning that the model perfectly explains the variation, and 0 meaning the model doesn't explain the variation at all).\n",
    " "
   ]
  }
 ],
 "metadata": {
  "kernelspec": {
   "display_name": "Python [conda env:machine_learning]",
   "language": "python",
   "name": "conda-env-machine_learning-py"
  },
  "language_info": {
   "codemirror_mode": {
    "name": "ipython",
    "version": 3
   },
   "file_extension": ".py",
   "mimetype": "text/x-python",
   "name": "python",
   "nbconvert_exporter": "python",
   "pygments_lexer": "ipython3",
   "version": "3.11.5"
  }
 },
 "nbformat": 4,
 "nbformat_minor": 5
}
